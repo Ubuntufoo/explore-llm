{
 "cells": [
  {
   "cell_type": "code",
   "execution_count": 1,
   "metadata": {},
   "outputs": [
    {
     "name": "stderr",
     "output_type": "stream",
     "text": [
      "/Users/seansmith/anaconda3/envs/airline/lib/python3.10/site-packages/tqdm/auto.py:21: TqdmWarning: IProgress not found. Please update jupyter and ipywidgets. See https://ipywidgets.readthedocs.io/en/stable/user_install.html\n",
      "  from .autonotebook import tqdm as notebook_tqdm\n"
     ]
    }
   ],
   "source": [
    "import os\n",
    "import tiktoken\n",
    "import pandas as pd\n",
    "import numpy as np\n",
    "import random\n",
    "import seaborn as sns\n",
    "from tenacity import retry, stop_after_attempt, wait_fixed\n",
    "from huggingface_hub import InferenceClient\n",
    "\n",
    "from openai import OpenAI\n",
    "from dotenv import load_dotenv\n",
    "\n",
    "load_dotenv(\".env\")\n",
    "\n",
    "OPENAI_KEY = os.environ[\"OPENAI_KEY\"]\n",
    "HF_TOKEN = os.environ['HF_TOKEN']\n",
    "\n",
    "\n",
    "GPT3 = \"gpt-3.5-turbo-1106\"\n",
    "GPT4 = \"gpt-4-1106-preview\"\n",
    "ZEPHYR = \"meta-llama/Llama-2-7b-chat-hf\"\n",
    "\n",
    "\n",
    "def num_tokens_from_string(string: str) -> int:\n",
    "    encoding = tiktoken.get_encoding(\"cl100k_base\")\n",
    "    num_tokens = len(encoding.encode(string))\n",
    "    return num_tokens\n",
    "\n",
    "\n",
    "# @retry(wait=wait_fixed(15), stop=stop_after_attempt(4))\n",
    "def llm(user_prompt, model, temperature=0.3):\n",
    "    model_kwargs = {\"temperature\": temperature}\n",
    "    user_prompt = user_prompt[:3700]\n",
    "\n",
    "    client = OpenAI(api_key=OPENAI_KEY)\n",
    "\n",
    "    response = client.chat.completions.create(\n",
    "        model=model,\n",
    "        messages=[{\"role\": \"user\", \"content\": user_prompt}],\n",
    "        stream=False,\n",
    "        **model_kwargs,\n",
    "    )\n",
    "\n",
    "    output = response.choices[0].message.content\n",
    "\n",
    "    return output\n",
    "\n",
    "def hf_llm(text, model, params={'max_new_tokens': 500, 'temperature': 0.3}):\n",
    "\n",
    "    prompt = f\"<s>[INST]{text}[/INST]\"\n",
    "    client = InferenceClient(model=model, token=HF_TOKEN)\n",
    "\n",
    "    output = client.text_generation(prompt, **params)\n",
    "    return output"
   ]
  },
  {
   "cell_type": "code",
   "execution_count": 2,
   "metadata": {},
   "outputs": [],
   "source": [
    "decomposition_prompt_template = lambda primary_goal, personalization, history: f\"\"\"I want to accomplish the main goal of {primary_goal}\n",
    "To better assist me, please break down the problem into sub-problems.\n",
    "Each sub-problem should help me to solve the original problem.\n",
    "Make it so that each sub-problem is not trival and can be helpful.\n",
    "Take my context and personalizeation cues to personalize the sub-problems.\n",
    "Make sure each sub-problem is concise and less than 15 words.\n",
    "\n",
    "Personalization Cue: {personalization}\n",
    "My Context: {history}\n",
    "\n",
    "Return a numbered list with a maximum of 8 sub-problems, each on a new line.\n",
    "\n",
    "Output: \"\"\"\n",
    "\n",
    "options_prompt_template = lambda primary_goal, task, personalization, history: f\"\"\"\n",
    "Here is one of the sub-query to help answer the main query.\n",
    "Go into details to help me with the sub -query.\n",
    "Show me some options to personalize and choose from.\n",
    "Be concrete and make sure the options are valid choices to finish the task in sub-query.\n",
    "When coming up with options, make sure they are diverse and representative of multiple demographics, cultures, and viewpoints.\n",
    "Output a numbered list of options for me to choose from, with each option on a new line. Provide helpful details.\n",
    "\n",
    "Primary-query: {primary_goal}\n",
    "Sub-query: {task}\n",
    "Personalization Cue: {personalization}\n",
    "My Context: {history}\n",
    "\n",
    "Output:\"\"\"\n",
    "\n",
    "summarize_prompt_template = lambda primary_goal, history: f\"\"\"I want to solve the problem in the primary-query.\n",
    "I've loaded all of my research in the history so you can see what I've done so far. \n",
    "The history is in the schema {{problem2solve: solutions}}.\n",
    "Please synthesize my history into a final report about the primary-query.\n",
    "Make sure to remove any duplicate information if it exists in the history.\n",
    "\n",
    "Primary-query: {primary_goal}\n",
    "History: \n",
    "{history}\n",
    "\n",
    "Output:\"\"\""
   ]
  },
  {
   "cell_type": "markdown",
   "metadata": {},
   "source": [
    "Workflow:\n",
    "1. User enters a main query, this is passed to the `decomposition` endpoint\n",
    "2. `decomposition` endpoint returns 8 sub-tasks that are represented as cards\n",
    "3. When a user clicks on a sub-task, they make a call to the `options` endpoint, this opens a new window\n",
    "4. The `options` endpoint returns a primary answer, as well as secondary answers that may be helpful\n",
    "5. A user selects which answers it likes best from the options endpoint which are stored.\n",
    "6. The user repeats 3-5 until they feel like they have sufficiently explored the sub-tasks\n",
    "7. The user calls the `summarize` endpoint which produces a final output of all the options they have selected"
   ]
  },
  {
   "cell_type": "code",
   "execution_count": 3,
   "metadata": {},
   "outputs": [],
   "source": [
    "def decomposition_endpoint(primary_goal, personalization, history):\n",
    "    history = \"None\" if len(history) == 0 else \"\\n\".join([f\"- {x}\" for x in history])\n",
    "    prompt = decomposition_prompt_template(primary_goal, personalization, history)\n",
    "    output = llm(prompt, GPT3)\n",
    "    output = [x.lstrip(\"0123456789. \") for x in output.split(\"\\n\")]\n",
    "    return output\n",
    "\n",
    "\n",
    "def options_endpoint(primary_goal, task, personalization, history):\n",
    "    history = \"None\" if len(history) == 0 else \"\\n\".join([f\"- {x}\" for x in history])\n",
    "    prompt = options_prompt_template(primary_goal, task, personalization, history)\n",
    "    output = llm(prompt, GPT3)\n",
    "    output = [x.lstrip(\"0123456789. \") for x in output.split(\"\\n\")]\n",
    "    return output\n",
    "\n",
    "\n",
    "def summarize_endpoint(primary_goal, history):\n",
    "    history = \"None\" if len(history) == 0 else \"\\n\".join([f\"- {x}\" for x in history])\n",
    "    prompt = summarize_prompt_template(primary_goal, history)\n",
    "    output = llm(prompt, GPT3)\n",
    "    return output"
   ]
  },
  {
   "cell_type": "markdown",
   "metadata": {},
   "source": [
    "## Step 1: User selects a primary Goal"
   ]
  },
  {
   "cell_type": "code",
   "execution_count": 4,
   "metadata": {},
   "outputs": [],
   "source": [
    "primary_goal = 'I want to plan a trip to Tokyo'\n",
    "personalization = 'I have a walking disability and travel in a wheelchair'\n",
    "history = []\n",
    "sub_tasks = decomposition_endpoint(primary_goal, personalization, history)"
   ]
  },
  {
   "cell_type": "code",
   "execution_count": 5,
   "metadata": {},
   "outputs": [
    {
     "name": "stdout",
     "output_type": "stream",
     "text": [
      "Research wheelchair-accessible attractions and activities in Tokyo.\n",
      "Find wheelchair-accessible accommodations in Tokyo.\n",
      "Determine the most wheelchair-friendly transportation options in Tokyo.\n",
      "Plan accessible routes and itineraries for sightseeing in Tokyo.\n",
      "Check for accessible facilities and amenities in Tokyo, such as restrooms and restaurants.\n",
      "Research local laws and regulations regarding accessibility for wheelchair users in Tokyo.\n",
      "Contact local disability organizations or travel agencies for advice and assistance.\n",
      "Create a backup plan in case of unexpected accessibility challenges during the trip.\n"
     ]
    }
   ],
   "source": [
    "print('\\n'.join(sub_tasks))"
   ]
  },
  {
   "cell_type": "markdown",
   "metadata": {},
   "source": [
    "## Step 2: User explores some sub-tasks\n",
    "This code right here simulates the UI"
   ]
  },
  {
   "cell_type": "code",
   "execution_count": 6,
   "metadata": {},
   "outputs": [],
   "source": [
    "explored_subtasks = random.sample(sub_tasks, 3)\n",
    "for task in explored_subtasks:\n",
    "    task_options = options_endpoint(primary_goal, task, personalization, history)\n",
    "    selected_options = random.sample(task_options, 3)\n",
    "    history.append({\"sub_task\": task, \"selected_options\": selected_options})"
   ]
  },
  {
   "cell_type": "code",
   "execution_count": 7,
   "metadata": {},
   "outputs": [
    {
     "name": "stdout",
     "output_type": "stream",
     "text": [
      "[{'sub_task': 'Research wheelchair-accessible attractions and activities in Tokyo.', 'selected_options': ['Take a stroll through the beautiful Shinjuku Gyoen National Garden, which has paved pathways and accessible facilities, perfect for enjoying nature and relaxation.', 'Visit the Tokyo National Museum, which is wheelchair accessible and offers a wide range of exhibits and artifacts from Japanese history and culture.', \"Explore the Senso-ji Temple in Asakusa, which has wheelchair ramps and accessible pathways, and is one of Tokyo's most famous and historic temples.\"]}, {'sub_task': 'Research local laws and regulations regarding accessibility for wheelchair users in Tokyo.', 'selected_options': ['Take a stroll through the beautiful Shinjuku Gyoen National Garden, which has paved pathways and accessible facilities, perfect for enjoying nature and relaxation. This option provides a peaceful and scenic experience for wheelchair users.', \"Explore the Senso-ji Temple in Asakusa, which has wheelchair ramps and accessible pathways, and is one of Tokyo's most famous and historic temples. This option offers a chance to explore a significant cultural and historical site while accommodating wheelchair users.\", '']}, {'sub_task': 'Plan accessible routes and itineraries for sightseeing in Tokyo.', 'selected_options': ['Visit the Tokyo National Museum, which is wheelchair accessible and offers a wide range of exhibits and artifacts from Japanese history and culture. This option allows wheelchair users to explore and learn about Japanese history and culture.', 'Take a stroll through the beautiful Shinjuku Gyoen National Garden, which has paved pathways and accessible facilities, perfect for enjoying nature and relaxation. This option provides a peaceful and scenic experience for wheelchair users.', \"Explore the Senso-ji Temple in Asakusa, which has wheelchair ramps and accessible pathways, and is one of Tokyo's most famous and historic temples. This option offers a chance to explore a significant cultural and historical site while accommodating wheelchair users.\"]}]\n"
     ]
    }
   ],
   "source": [
    "print(history)"
   ]
  },
  {
   "cell_type": "markdown",
   "metadata": {},
   "source": [
    "## Step 3: User gets a final summary"
   ]
  },
  {
   "cell_type": "code",
   "execution_count": 12,
   "metadata": {},
   "outputs": [
    {
     "name": "stdout",
     "output_type": "stream",
     "text": [
      "history: [{'sub_task': 'Research wheelchair-accessible attractions and activities in Tokyo.', 'selected_options': ['Take a stroll through the beautiful Shinjuku Gyoen National Garden, which has paved pathways and accessible facilities, perfect for enjoying nature and relaxation.', 'Visit the Tokyo National Museum, which is wheelchair accessible and offers a wide range of exhibits and artifacts from Japanese history and culture.', \"Explore the Senso-ji Temple in Asakusa, which has wheelchair ramps and accessible pathways, and is one of Tokyo's most famous and historic temples.\"]}, {'sub_task': 'Research local laws and regulations regarding accessibility for wheelchair users in Tokyo.', 'selected_options': ['Take a stroll through the beautiful Shinjuku Gyoen National Garden, which has paved pathways and accessible facilities, perfect for enjoying nature and relaxation. This option provides a peaceful and scenic experience for wheelchair users.', \"Explore the Senso-ji Temple in Asakusa, which has wheelchair ramps and accessible pathways, and is one of Tokyo's most famous and historic temples. This option offers a chance to explore a significant cultural and historical site while accommodating wheelchair users.\", '']}, {'sub_task': 'Plan accessible routes and itineraries for sightseeing in Tokyo.', 'selected_options': ['Visit the Tokyo National Museum, which is wheelchair accessible and offers a wide range of exhibits and artifacts from Japanese history and culture. This option allows wheelchair users to explore and learn about Japanese history and culture.', 'Take a stroll through the beautiful Shinjuku Gyoen National Garden, which has paved pathways and accessible facilities, perfect for enjoying nature and relaxation. This option provides a peaceful and scenic experience for wheelchair users.', \"Explore the Senso-ji Temple in Asakusa, which has wheelchair ramps and accessible pathways, and is one of Tokyo's most famous and historic temples. This option offers a chance to explore a significant cultural and historical site while accommodating wheelchair users.\"]}]\n",
      "primary_goal: [{'sub_task': 'Research wheelchair-accessible attractions and activities in Tokyo.', 'selected_options': ['Take a stroll through the beautiful Shinjuku Gyoen National Garden, which has paved pathways and accessible facilities, perfect for enjoying nature and relaxation.', 'Visit the Tokyo National Museum, which is wheelchair accessible and offers a wide range of exhibits and artifacts from Japanese history and culture.', \"Explore the Senso-ji Temple in Asakusa, which has wheelchair ramps and accessible pathways, and is one of Tokyo's most famous and historic temples.\"]}, {'sub_task': 'Research local laws and regulations regarding accessibility for wheelchair users in Tokyo.', 'selected_options': ['Take a stroll through the beautiful Shinjuku Gyoen National Garden, which has paved pathways and accessible facilities, perfect for enjoying nature and relaxation. This option provides a peaceful and scenic experience for wheelchair users.', \"Explore the Senso-ji Temple in Asakusa, which has wheelchair ramps and accessible pathways, and is one of Tokyo's most famous and historic temples. This option offers a chance to explore a significant cultural and historical site while accommodating wheelchair users.\", '']}, {'sub_task': 'Plan accessible routes and itineraries for sightseeing in Tokyo.', 'selected_options': ['Visit the Tokyo National Museum, which is wheelchair accessible and offers a wide range of exhibits and artifacts from Japanese history and culture. This option allows wheelchair users to explore and learn about Japanese history and culture.', 'Take a stroll through the beautiful Shinjuku Gyoen National Garden, which has paved pathways and accessible facilities, perfect for enjoying nature and relaxation. This option provides a peaceful and scenic experience for wheelchair users.', \"Explore the Senso-ji Temple in Asakusa, which has wheelchair ramps and accessible pathways, and is one of Tokyo's most famous and historic temples. This option offers a chance to explore a significant cultural and historical site while accommodating wheelchair users.\"]}]\n"
     ]
    }
   ],
   "source": [
    "print('history:' , history)\n",
    "print('primary_goal:' , history)"
   ]
  },
  {
   "cell_type": "code",
   "execution_count": 8,
   "metadata": {},
   "outputs": [],
   "source": [
    "final_summary = summarize_endpoint(primary_goal, history)"
   ]
  },
  {
   "cell_type": "code",
   "execution_count": 9,
   "metadata": {},
   "outputs": [
    {
     "name": "stdout",
     "output_type": "stream",
     "text": [
      "Final Report:\n",
      "\n",
      "After conducting thorough research, the following solutions have been identified for planning a trip to Tokyo with a focus on wheelchair accessibility:\n",
      "\n",
      "1. Research wheelchair-accessible attractions and activities in Tokyo:\n",
      "   - Take a stroll through the beautiful Shinjuku Gyoen National Garden, which has paved pathways and accessible facilities, perfect for enjoying nature and relaxation.\n",
      "   - Visit the Tokyo National Museum, which is wheelchair accessible and offers a wide range of exhibits and artifacts from Japanese history and culture.\n",
      "   - Explore the Senso-ji Temple in Asakusa, which has wheelchair ramps and accessible pathways, and is one of Tokyo's most famous and historic temples.\n",
      "\n",
      "2. Research local laws and regulations regarding accessibility for wheelchair users in Tokyo:\n",
      "   - Take a stroll through the beautiful Shinjuku Gyoen National Garden, which has paved pathways and accessible facilities, perfect for enjoying nature and relaxation. This option provides a peaceful and scenic experience for wheelchair users.\n",
      "   - Explore the Senso-ji Temple in Asakusa, which has wheelchair ramps and accessible pathways, and is one of Tokyo's most famous and historic temples. This option offers a chance to explore a significant cultural and historical site while accommodating wheelchair users.\n",
      "\n",
      "3. Plan accessible routes and itineraries for sightseeing in Tokyo:\n",
      "   - Visit the Tokyo National Museum, which is wheelchair accessible and offers a wide range of exhibits and artifacts from Japanese history and culture. This option allows wheelchair users to explore and learn about Japanese history and culture.\n",
      "   - Take a stroll through the beautiful Shinjuku Gyoen National Garden, which has paved pathways and accessible facilities, perfect for enjoying nature and relaxation. This option provides a peaceful and scenic experience for wheelchair users.\n",
      "   - Explore the Senso-ji Temple in Asakusa, which has wheelchair ramps and accessible pathways, and is one of Tokyo's most famous and historic temples. This option offers a chance to explore a significant cultural and historical site while accommodating wheelchair users.\n",
      "\n",
      "Overall, the research has provided comprehensive information on wheelchair-accessible attractions, local regulations, and accessible routes for sightseeing in Tokyo, ensuring a well-planned and enjoyable trip for wheelchair users.\n"
     ]
    }
   ],
   "source": [
    "print(final_summary)"
   ]
  },
  {
   "cell_type": "markdown",
   "metadata": {},
   "source": [
    "## Some Parting Thoughts"
   ]
  },
  {
   "cell_type": "markdown",
   "metadata": {},
   "source": [
    "\n",
    "Here's what the schema to basically every endpoint would be: \n",
    "```\n",
    "{\n",
    "    \"primary_goal\": \"\",\n",
    "    \"personalization_cue\": \"\",\n",
    "    \"history\": [\n",
    "        {\n",
    "            \"sub_task\": \"\"\n",
    "            \"selected_options\": [\"\"]\n",
    "        }\n",
    "    ]\n",
    "}\n",
    "```"
   ]
  }
 ],
 "metadata": {
  "kernelspec": {
   "display_name": "airline",
   "language": "python",
   "name": "python3"
  },
  "language_info": {
   "codemirror_mode": {
    "name": "ipython",
    "version": 3
   },
   "file_extension": ".py",
   "mimetype": "text/x-python",
   "name": "python",
   "nbconvert_exporter": "python",
   "pygments_lexer": "ipython3",
   "version": "3.10.13"
  },
  "orig_nbformat": 4
 },
 "nbformat": 4,
 "nbformat_minor": 2
}
